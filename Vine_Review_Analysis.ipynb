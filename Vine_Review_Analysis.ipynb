{
 "cells": [
  {
   "cell_type": "code",
   "execution_count": 1,
   "metadata": {},
   "outputs": [],
   "source": [
    "# Dependencies and Setup\n",
    "import pandas as pd\n",
    "\n",
    "# File to Load \n",
    "\n",
    "vine_table_to_load = \"Resources/vine_table.csv\"\n",
    "\n",
    "# Read the vine_table into a Pandas DataFrame\n",
    "\n",
    "vine_table_df = pd.read_csv(vine_table_to_load)\n"
   ]
  },
  {
   "cell_type": "code",
   "execution_count": 2,
   "metadata": {},
   "outputs": [
    {
     "data": {
      "text/html": [
       "<div>\n",
       "<style scoped>\n",
       "    .dataframe tbody tr th:only-of-type {\n",
       "        vertical-align: middle;\n",
       "    }\n",
       "\n",
       "    .dataframe tbody tr th {\n",
       "        vertical-align: top;\n",
       "    }\n",
       "\n",
       "    .dataframe thead th {\n",
       "        text-align: right;\n",
       "    }\n",
       "</style>\n",
       "<table border=\"1\" class=\"dataframe\">\n",
       "  <thead>\n",
       "    <tr style=\"text-align: right;\">\n",
       "      <th></th>\n",
       "      <th>review_id</th>\n",
       "      <th>star_rating</th>\n",
       "      <th>helpful_votes</th>\n",
       "      <th>total_votes</th>\n",
       "      <th>vine</th>\n",
       "      <th>verified_purchase</th>\n",
       "    </tr>\n",
       "  </thead>\n",
       "  <tbody>\n",
       "    <tr>\n",
       "      <th>348614</th>\n",
       "      <td>R33PHQQAV5DJ8X</td>\n",
       "      <td>5.0</td>\n",
       "      <td>98.0</td>\n",
       "      <td>100.0</td>\n",
       "      <td>N</td>\n",
       "      <td>N</td>\n",
       "    </tr>\n",
       "    <tr>\n",
       "      <th>348621</th>\n",
       "      <td>RWO8RAQ8QBXID</td>\n",
       "      <td>1.0</td>\n",
       "      <td>4.0</td>\n",
       "      <td>37.0</td>\n",
       "      <td>N</td>\n",
       "      <td>N</td>\n",
       "    </tr>\n",
       "    <tr>\n",
       "      <th>348631</th>\n",
       "      <td>R3LXSP7H4UT47G</td>\n",
       "      <td>4.0</td>\n",
       "      <td>20.0</td>\n",
       "      <td>23.0</td>\n",
       "      <td>N</td>\n",
       "      <td>N</td>\n",
       "    </tr>\n",
       "    <tr>\n",
       "      <th>348633</th>\n",
       "      <td>R168YIRN0KE3U7</td>\n",
       "      <td>5.0</td>\n",
       "      <td>18.0</td>\n",
       "      <td>30.0</td>\n",
       "      <td>N</td>\n",
       "      <td>N</td>\n",
       "    </tr>\n",
       "    <tr>\n",
       "      <th>348652</th>\n",
       "      <td>RIFGPIICFHYJ0</td>\n",
       "      <td>2.0</td>\n",
       "      <td>23.0</td>\n",
       "      <td>23.0</td>\n",
       "      <td>N</td>\n",
       "      <td>N</td>\n",
       "    </tr>\n",
       "  </tbody>\n",
       "</table>\n",
       "</div>"
      ],
      "text/plain": [
       "             review_id  star_rating  helpful_votes  total_votes vine  \\\n",
       "348614  R33PHQQAV5DJ8X          5.0           98.0        100.0    N   \n",
       "348621   RWO8RAQ8QBXID          1.0            4.0         37.0    N   \n",
       "348631  R3LXSP7H4UT47G          4.0           20.0         23.0    N   \n",
       "348633  R168YIRN0KE3U7          5.0           18.0         30.0    N   \n",
       "348652   RIFGPIICFHYJ0          2.0           23.0         23.0    N   \n",
       "\n",
       "       verified_purchase  \n",
       "348614                 N  \n",
       "348621                 N  \n",
       "348631                 N  \n",
       "348633                 N  \n",
       "348652                 N  "
      ]
     },
     "execution_count": 2,
     "metadata": {},
     "output_type": "execute_result"
    }
   ],
   "source": [
    "# Filter data to create a new DataFrame to show all the rows where the totalvotes is equal to or greater than 20\n",
    "vine_sorted_df = vine_table_df[(vine_table_df[\"total_votes\"] >= 20)]\n",
    "vine_sorted_df.tail()"
   ]
  },
  {
   "cell_type": "code",
   "execution_count": 3,
   "metadata": {},
   "outputs": [
    {
     "data": {
      "text/html": [
       "<div>\n",
       "<style scoped>\n",
       "    .dataframe tbody tr th:only-of-type {\n",
       "        vertical-align: middle;\n",
       "    }\n",
       "\n",
       "    .dataframe tbody tr th {\n",
       "        vertical-align: top;\n",
       "    }\n",
       "\n",
       "    .dataframe thead th {\n",
       "        text-align: right;\n",
       "    }\n",
       "</style>\n",
       "<table border=\"1\" class=\"dataframe\">\n",
       "  <thead>\n",
       "    <tr style=\"text-align: right;\">\n",
       "      <th></th>\n",
       "      <th>review_id</th>\n",
       "      <th>star_rating</th>\n",
       "      <th>helpful_votes</th>\n",
       "      <th>total_votes</th>\n",
       "      <th>vine</th>\n",
       "      <th>verified_purchase</th>\n",
       "    </tr>\n",
       "  </thead>\n",
       "  <tbody>\n",
       "    <tr>\n",
       "      <th>45</th>\n",
       "      <td>R11IBSD5E6HPSD</td>\n",
       "      <td>1.0</td>\n",
       "      <td>29.0</td>\n",
       "      <td>31.0</td>\n",
       "      <td>N</td>\n",
       "      <td>Y</td>\n",
       "    </tr>\n",
       "    <tr>\n",
       "      <th>180</th>\n",
       "      <td>R2KVWAYBPWK1OV</td>\n",
       "      <td>5.0</td>\n",
       "      <td>20.0</td>\n",
       "      <td>22.0</td>\n",
       "      <td>N</td>\n",
       "      <td>N</td>\n",
       "    </tr>\n",
       "    <tr>\n",
       "      <th>209</th>\n",
       "      <td>R1FLOE9E4ODIGR</td>\n",
       "      <td>5.0</td>\n",
       "      <td>34.0</td>\n",
       "      <td>38.0</td>\n",
       "      <td>N</td>\n",
       "      <td>Y</td>\n",
       "    </tr>\n",
       "    <tr>\n",
       "      <th>239</th>\n",
       "      <td>R6XTEZCSCUJ4J</td>\n",
       "      <td>5.0</td>\n",
       "      <td>20.0</td>\n",
       "      <td>23.0</td>\n",
       "      <td>N</td>\n",
       "      <td>Y</td>\n",
       "    </tr>\n",
       "    <tr>\n",
       "      <th>283</th>\n",
       "      <td>R2WVV9LQKIVMOX</td>\n",
       "      <td>5.0</td>\n",
       "      <td>23.0</td>\n",
       "      <td>23.0</td>\n",
       "      <td>N</td>\n",
       "      <td>N</td>\n",
       "    </tr>\n",
       "  </tbody>\n",
       "</table>\n",
       "</div>"
      ],
      "text/plain": [
       "          review_id  star_rating  helpful_votes  total_votes vine  \\\n",
       "45   R11IBSD5E6HPSD          1.0           29.0         31.0    N   \n",
       "180  R2KVWAYBPWK1OV          5.0           20.0         22.0    N   \n",
       "209  R1FLOE9E4ODIGR          5.0           34.0         38.0    N   \n",
       "239   R6XTEZCSCUJ4J          5.0           20.0         23.0    N   \n",
       "283  R2WVV9LQKIVMOX          5.0           23.0         23.0    N   \n",
       "\n",
       "    verified_purchase  \n",
       "45                  Y  \n",
       "180                 N  \n",
       "209                 Y  \n",
       "239                 Y  \n",
       "283                 N  "
      ]
     },
     "execution_count": 3,
     "metadata": {},
     "output_type": "execute_result"
    }
   ],
   "source": [
    "# Create a new DataFrame where the number of helpful_votes divided by total_votes is equal to or greater than 50%\n",
    "\n",
    "helpful_votes_df = vine_sorted_df[((vine_sorted_df[\"helpful_votes\"]) / (vine_sorted_df[\"total_votes\"])) >= .5]\n",
    "helpful_votes_df.head()"
   ]
  },
  {
   "cell_type": "code",
   "execution_count": 4,
   "metadata": {},
   "outputs": [
    {
     "data": {
      "text/html": [
       "<div>\n",
       "<style scoped>\n",
       "    .dataframe tbody tr th:only-of-type {\n",
       "        vertical-align: middle;\n",
       "    }\n",
       "\n",
       "    .dataframe tbody tr th {\n",
       "        vertical-align: top;\n",
       "    }\n",
       "\n",
       "    .dataframe thead th {\n",
       "        text-align: right;\n",
       "    }\n",
       "</style>\n",
       "<table border=\"1\" class=\"dataframe\">\n",
       "  <thead>\n",
       "    <tr style=\"text-align: right;\">\n",
       "      <th></th>\n",
       "      <th>review_id</th>\n",
       "      <th>star_rating</th>\n",
       "      <th>helpful_votes</th>\n",
       "      <th>total_votes</th>\n",
       "      <th>vine</th>\n",
       "      <th>verified_purchase</th>\n",
       "    </tr>\n",
       "  </thead>\n",
       "  <tbody>\n",
       "    <tr>\n",
       "      <th>19527</th>\n",
       "      <td>RPJ7C4HP3BHXN</td>\n",
       "      <td>5.0</td>\n",
       "      <td>25.0</td>\n",
       "      <td>29.0</td>\n",
       "      <td>Y</td>\n",
       "      <td>N</td>\n",
       "    </tr>\n",
       "    <tr>\n",
       "      <th>21361</th>\n",
       "      <td>R3SB08XK0M7993</td>\n",
       "      <td>4.0</td>\n",
       "      <td>44.0</td>\n",
       "      <td>49.0</td>\n",
       "      <td>Y</td>\n",
       "      <td>N</td>\n",
       "    </tr>\n",
       "    <tr>\n",
       "      <th>33098</th>\n",
       "      <td>R26X1DACMCN3YF</td>\n",
       "      <td>3.0</td>\n",
       "      <td>16.0</td>\n",
       "      <td>21.0</td>\n",
       "      <td>Y</td>\n",
       "      <td>N</td>\n",
       "    </tr>\n",
       "    <tr>\n",
       "      <th>38418</th>\n",
       "      <td>R17HKKDE9ZRVOO</td>\n",
       "      <td>4.0</td>\n",
       "      <td>31.0</td>\n",
       "      <td>35.0</td>\n",
       "      <td>Y</td>\n",
       "      <td>N</td>\n",
       "    </tr>\n",
       "    <tr>\n",
       "      <th>39255</th>\n",
       "      <td>R1R7GNSCMO8U7I</td>\n",
       "      <td>4.0</td>\n",
       "      <td>24.0</td>\n",
       "      <td>28.0</td>\n",
       "      <td>Y</td>\n",
       "      <td>N</td>\n",
       "    </tr>\n",
       "  </tbody>\n",
       "</table>\n",
       "</div>"
      ],
      "text/plain": [
       "            review_id  star_rating  helpful_votes  total_votes vine  \\\n",
       "19527   RPJ7C4HP3BHXN          5.0           25.0         29.0    Y   \n",
       "21361  R3SB08XK0M7993          4.0           44.0         49.0    Y   \n",
       "33098  R26X1DACMCN3YF          3.0           16.0         21.0    Y   \n",
       "38418  R17HKKDE9ZRVOO          4.0           31.0         35.0    Y   \n",
       "39255  R1R7GNSCMO8U7I          4.0           24.0         28.0    Y   \n",
       "\n",
       "      verified_purchase  \n",
       "19527                 N  \n",
       "21361                 N  \n",
       "33098                 N  \n",
       "38418                 N  \n",
       "39255                 N  "
      ]
     },
     "execution_count": 4,
     "metadata": {},
     "output_type": "execute_result"
    }
   ],
   "source": [
    "# Filter the DataFrame and create a new DataFrame that retrieves all the rows where a review was written as part of the Vine program\n",
    "vine_program_df = helpful_votes_df[(helpful_votes_df[\"vine\"] == \"Y\")]\n",
    "vine_program_df.head()"
   ]
  },
  {
   "cell_type": "code",
   "execution_count": 5,
   "metadata": {},
   "outputs": [
    {
     "data": {
      "text/html": [
       "<div>\n",
       "<style scoped>\n",
       "    .dataframe tbody tr th:only-of-type {\n",
       "        vertical-align: middle;\n",
       "    }\n",
       "\n",
       "    .dataframe tbody tr th {\n",
       "        vertical-align: top;\n",
       "    }\n",
       "\n",
       "    .dataframe thead th {\n",
       "        text-align: right;\n",
       "    }\n",
       "</style>\n",
       "<table border=\"1\" class=\"dataframe\">\n",
       "  <thead>\n",
       "    <tr style=\"text-align: right;\">\n",
       "      <th></th>\n",
       "      <th>review_id</th>\n",
       "      <th>star_rating</th>\n",
       "      <th>helpful_votes</th>\n",
       "      <th>total_votes</th>\n",
       "      <th>vine</th>\n",
       "      <th>verified_purchase</th>\n",
       "    </tr>\n",
       "  </thead>\n",
       "  <tbody>\n",
       "    <tr>\n",
       "      <th>45</th>\n",
       "      <td>R11IBSD5E6HPSD</td>\n",
       "      <td>1.0</td>\n",
       "      <td>29.0</td>\n",
       "      <td>31.0</td>\n",
       "      <td>N</td>\n",
       "      <td>Y</td>\n",
       "    </tr>\n",
       "    <tr>\n",
       "      <th>180</th>\n",
       "      <td>R2KVWAYBPWK1OV</td>\n",
       "      <td>5.0</td>\n",
       "      <td>20.0</td>\n",
       "      <td>22.0</td>\n",
       "      <td>N</td>\n",
       "      <td>N</td>\n",
       "    </tr>\n",
       "    <tr>\n",
       "      <th>209</th>\n",
       "      <td>R1FLOE9E4ODIGR</td>\n",
       "      <td>5.0</td>\n",
       "      <td>34.0</td>\n",
       "      <td>38.0</td>\n",
       "      <td>N</td>\n",
       "      <td>Y</td>\n",
       "    </tr>\n",
       "    <tr>\n",
       "      <th>239</th>\n",
       "      <td>R6XTEZCSCUJ4J</td>\n",
       "      <td>5.0</td>\n",
       "      <td>20.0</td>\n",
       "      <td>23.0</td>\n",
       "      <td>N</td>\n",
       "      <td>Y</td>\n",
       "    </tr>\n",
       "    <tr>\n",
       "      <th>283</th>\n",
       "      <td>R2WVV9LQKIVMOX</td>\n",
       "      <td>5.0</td>\n",
       "      <td>23.0</td>\n",
       "      <td>23.0</td>\n",
       "      <td>N</td>\n",
       "      <td>N</td>\n",
       "    </tr>\n",
       "  </tbody>\n",
       "</table>\n",
       "</div>"
      ],
      "text/plain": [
       "          review_id  star_rating  helpful_votes  total_votes vine  \\\n",
       "45   R11IBSD5E6HPSD          1.0           29.0         31.0    N   \n",
       "180  R2KVWAYBPWK1OV          5.0           20.0         22.0    N   \n",
       "209  R1FLOE9E4ODIGR          5.0           34.0         38.0    N   \n",
       "239   R6XTEZCSCUJ4J          5.0           20.0         23.0    N   \n",
       "283  R2WVV9LQKIVMOX          5.0           23.0         23.0    N   \n",
       "\n",
       "    verified_purchase  \n",
       "45                  Y  \n",
       "180                 N  \n",
       "209                 Y  \n",
       "239                 Y  \n",
       "283                 N  "
      ]
     },
     "execution_count": 5,
     "metadata": {},
     "output_type": "execute_result"
    }
   ],
   "source": [
    "# Filter the DataFrame and create a new DataFrame that retrieves all the rows where a review was not written as part of the Vine program\n",
    "not_vine_df = helpful_votes_df[(helpful_votes_df[\"vine\"] == \"N\")]\n",
    "not_vine_df.head()"
   ]
  },
  {
   "cell_type": "code",
   "execution_count": 6,
   "metadata": {},
   "outputs": [
    {
     "data": {
      "text/plain": [
       "21"
      ]
     },
     "execution_count": 6,
     "metadata": {},
     "output_type": "execute_result"
    }
   ],
   "source": [
    "# Determine the total number of reviews for vine program\n",
    "vine_reviews = vine_program_df[\"review_id\"].count()\n",
    "vine_reviews"
   ]
  },
  {
   "cell_type": "code",
   "execution_count": 7,
   "metadata": {},
   "outputs": [
    {
     "data": {
      "text/plain": [
       "6690"
      ]
     },
     "execution_count": 7,
     "metadata": {},
     "output_type": "execute_result"
    }
   ],
   "source": [
    "# Determine the total number of reviews not part of vine program\n",
    "not_vine_reviews = not_vine_df[\"review_id\"].count()\n",
    "not_vine_reviews"
   ]
  },
  {
   "cell_type": "code",
   "execution_count": 8,
   "metadata": {},
   "outputs": [
    {
     "data": {
      "text/plain": [
       "10"
      ]
     },
     "execution_count": 8,
     "metadata": {},
     "output_type": "execute_result"
    }
   ],
   "source": [
    "# Determine the total number of 5-star reviews for vine program\n",
    "five_star_reviews_vine = vine_program_df[(vine_program_df[\"star_rating\"] == 5)]\n",
    "\n",
    "vine_five_star_count = five_star_reviews_vine[\"review_id\"].count()\n",
    "vine_five_star_count\n",
    "\n",
    "                              "
   ]
  },
  {
   "cell_type": "code",
   "execution_count": 9,
   "metadata": {},
   "outputs": [
    {
     "data": {
      "text/plain": [
       "3448"
      ]
     },
     "execution_count": 9,
     "metadata": {},
     "output_type": "execute_result"
    }
   ],
   "source": [
    "# Determine the total number of 5-star reviews for non vine program\n",
    "five_star_reviews_non_vine = not_vine_df[(not_vine_df[\"star_rating\"] == 5)]\n",
    "\n",
    "non_vine_five_star_reviews_count = five_star_reviews_non_vine[\"review_id\"].count()\n",
    "non_vine_five_star_reviews_count"
   ]
  },
  {
   "cell_type": "code",
   "execution_count": 10,
   "metadata": {},
   "outputs": [
    {
     "data": {
      "text/plain": [
       "0.47619047619047616"
      ]
     },
     "execution_count": 10,
     "metadata": {},
     "output_type": "execute_result"
    }
   ],
   "source": [
    "# Determine the percentage of 5-star reviews for vine program\n",
    "percentage_vine_program = vine_five_star_count / vine_reviews\n",
    "percentage_vine_program"
   ]
  },
  {
   "cell_type": "code",
   "execution_count": 11,
   "metadata": {},
   "outputs": [
    {
     "data": {
      "text/plain": [
       "0.5153961136023917"
      ]
     },
     "execution_count": 11,
     "metadata": {},
     "output_type": "execute_result"
    }
   ],
   "source": [
    "# Determine the percentage of 5-star reviews for non vine program\n",
    "percentage_non_vine_program = non_vine_five_star_reviews_count / not_vine_reviews\n",
    "percentage_non_vine_program"
   ]
  },
  {
   "cell_type": "markdown",
   "metadata": {},
   "source": [
    "## Additional Analysis on original dataframe without sorting for total votes and percentage of helpful votes\n",
    "    "
   ]
  },
  {
   "cell_type": "markdown",
   "metadata": {},
   "source": [
    "# Vine Program"
   ]
  },
  {
   "cell_type": "code",
   "execution_count": 12,
   "metadata": {},
   "outputs": [
    {
     "data": {
      "text/plain": [
       "904"
      ]
     },
     "execution_count": 12,
     "metadata": {},
     "output_type": "execute_result"
    }
   ],
   "source": [
    "# Determine the total number of reviews part of the vine program original dataframe\n",
    "unsorted_vine_program_df = vine_table_df[(vine_table_df[\"vine\"] == \"Y\")]\n",
    "unsorted_total_reviews_vine = unsorted_vine_program_df[\"review_id\"].count()\n",
    "unsorted_total_reviews_vine"
   ]
  },
  {
   "cell_type": "code",
   "execution_count": 13,
   "metadata": {},
   "outputs": [
    {
     "data": {
      "text/plain": [
       "472"
      ]
     },
     "execution_count": 13,
     "metadata": {},
     "output_type": "execute_result"
    }
   ],
   "source": [
    "# Determine the total number of 5 star review for vine program on original dataframe\n",
    "unsorted_five_star_reviews_vine = unsorted_vine_program_df[(unsorted_vine_program_df[\"star_rating\"] == 5)]\n",
    "\n",
    "unsorted_vine_five_star_count = unsorted_five_star_reviews_vine[\"review_id\"].count()\n",
    "unsorted_vine_five_star_count\n"
   ]
  },
  {
   "cell_type": "code",
   "execution_count": 14,
   "metadata": {},
   "outputs": [
    {
     "data": {
      "text/plain": [
       "0.5221238938053098"
      ]
     },
     "execution_count": 14,
     "metadata": {},
     "output_type": "execute_result"
    }
   ],
   "source": [
    "# Determine the percentage of 5-star reviews for vine program on original dataframe\n",
    "unsorted_percentage_vine_program = unsorted_vine_five_star_count / unsorted_total_reviews_vine\n",
    "unsorted_percentage_vine_program"
   ]
  },
  {
   "cell_type": "markdown",
   "metadata": {},
   "source": [
    "# Not Vine Program"
   ]
  },
  {
   "cell_type": "code",
   "execution_count": 15,
   "metadata": {},
   "outputs": [
    {
     "data": {
      "text/plain": [
       "347747"
      ]
     },
     "execution_count": 15,
     "metadata": {},
     "output_type": "execute_result"
    }
   ],
   "source": [
    "# Determine the total number of reviews not part of the vine program original dataframe\n",
    "unsorted_not_vine_program_df = vine_table_df[(vine_table_df[\"vine\"] == \"N\")]\n",
    "unsorted_total_reviews_not_vine = unsorted_not_vine_program_df[\"review_id\"].count()\n",
    "unsorted_total_reviews_not_vine"
   ]
  },
  {
   "cell_type": "code",
   "execution_count": 16,
   "metadata": {},
   "outputs": [
    {
     "data": {
      "text/plain": [
       "216023"
      ]
     },
     "execution_count": 16,
     "metadata": {},
     "output_type": "execute_result"
    }
   ],
   "source": [
    "# Determine the total number of 5 star review for not vine program on original dataframe\n",
    "unsorted_five_star_reviews_not_vine = unsorted_not_vine_program_df[(unsorted_not_vine_program_df[\"star_rating\"] == 5)]\n",
    "\n",
    "unsorted_not_vine_five_star_count = unsorted_five_star_reviews_not_vine[\"review_id\"].count()\n",
    "unsorted_not_vine_five_star_count"
   ]
  },
  {
   "cell_type": "code",
   "execution_count": 17,
   "metadata": {},
   "outputs": [
    {
     "data": {
      "text/plain": [
       "0.6212073720262145"
      ]
     },
     "execution_count": 17,
     "metadata": {},
     "output_type": "execute_result"
    }
   ],
   "source": [
    "# Determine the percentage of 5-star reviews for vine program on original dataframe\n",
    "unsorted_percentage_not_vine_program = unsorted_not_vine_five_star_count / unsorted_total_reviews_not_vine\n",
    "unsorted_percentage_not_vine_program"
   ]
  }
 ],
 "metadata": {
  "kernelspec": {
   "display_name": "PythonData",
   "language": "python",
   "name": "pythondata"
  },
  "language_info": {
   "codemirror_mode": {
    "name": "ipython",
    "version": 3
   },
   "file_extension": ".py",
   "mimetype": "text/x-python",
   "name": "python",
   "nbconvert_exporter": "python",
   "pygments_lexer": "ipython3",
   "version": "3.7.9"
  }
 },
 "nbformat": 4,
 "nbformat_minor": 4
}
